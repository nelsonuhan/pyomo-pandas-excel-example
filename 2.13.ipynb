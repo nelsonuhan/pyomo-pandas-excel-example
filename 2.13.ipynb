{
 "cells": [
  {
   "cell_type": "markdown",
   "metadata": {},
   "source": [
    "# 2.13"
   ]
  },
  {
   "cell_type": "markdown",
   "metadata": {},
   "source": [
    "## Model\n",
    "\n",
    "\n",
    "### Input parameters\n",
    "\n",
    "Let \n",
    "    \n",
    "\\begin{alignat*}{2}\n",
    "  R & = \\text{set of raw materials} = \\{ \\text{Alloy1, Alloy2, Alloy3, Scrap1, Scrap2} \\}\\\\ \n",
    "  C & = \\text{set of characteristics} = \\{\\text{Carbon, Nickel, Chromium, TensileStrength}\\}\\\\\n",
    "  c_i & = \\text{cost of raw material $i$} && \\text{for } i \\in R\\\\\n",
    "  a_i & = \\text{amount of raw material $i$ available} && \\text{for } i \\in R\\\\\n",
    "  h_{ij} & = \\text{value of characteristic $j$ in raw material $i$} && \\text{for } i \\in R, j \\in C\\\\\n",
    "  \\ell_j & = \\text{lower bound for characteristic $j$} && \\text{for } j \\in C\\\\\n",
    "  u_j & = \\text{upper bound for characteristic $j$} && \\text{for } j \\in C\n",
    "\\end{alignat*}\n",
    "    \n",
    "Note that according to the problem description, $\\ell_{\\text{Nickel}} = 0$.\n",
    "\n",
    "### Decision variables\n",
    "\n",
    "Let\n",
    "  \\begin{equation*}\n",
    "    x_i = \\text{tons of raw material $i$ used} \\quad \\text{for } i \\in R\n",
    "  \\end{equation*}\n",
    "\n",
    "### Objective function and constraints\n",
    "\n",
    "\\begin{alignat*}{3}\n",
    "\\min \\quad & \\sum_{i \\in R} c_i x_i &\\quad& &\\quad& \\text{(total cost)}\\\\ \n",
    "\\text{s.t.} \\quad & \\sum_{i \\in R} x_i = 100 &\\quad&  &\\quad& \\text{(piece is 100 tons)}\\\\\n",
    "& \\ell_j \\sum_{i \\in R} x_i \\leq \\sum_{i \\in R} h_{ij} x_i \\leq u_j \\sum_{i \\in R} x_i &\\quad& \\text{for $j \\in C$} &\\quad& \\text{(characteristic requirements)}\\\\\n",
    "& 0 \\leq x_i \\leq a_i &\\quad& \\text{for $i \\in R$} &\\quad& \\text{(nonnegativity, availability of raw materials)}\n",
    "\\end{alignat*}\n",
    "\n",
    "### Optimal value\n",
    "\n",
    "7086.076818"
   ]
  },
  {
   "cell_type": "markdown",
   "metadata": {},
   "source": [
    "<hr style=\"height:2px;background-color:gray;\">"
   ]
  },
  {
   "cell_type": "markdown",
   "metadata": {},
   "source": [
    "## Read data"
   ]
  },
  {
   "cell_type": "code",
   "execution_count": 1,
   "metadata": {},
   "outputs": [
    {
     "name": "stdout",
     "output_type": "stream",
     "text": [
      "Pandas version: 1.2.5\n"
     ]
    }
   ],
   "source": [
    "import pandas as pd\n",
    "print(f'Pandas version: {pd.__version__}')"
   ]
  },
  {
   "cell_type": "code",
   "execution_count": 2,
   "metadata": {
    "tags": []
   },
   "outputs": [
    {
     "data": {
      "text/html": [
       "<div>\n",
       "<style scoped>\n",
       "    .dataframe tbody tr th:only-of-type {\n",
       "        vertical-align: middle;\n",
       "    }\n",
       "\n",
       "    .dataframe tbody tr th {\n",
       "        vertical-align: top;\n",
       "    }\n",
       "\n",
       "    .dataframe thead th {\n",
       "        text-align: right;\n",
       "    }\n",
       "</style>\n",
       "<table border=\"1\" class=\"dataframe\">\n",
       "  <thead>\n",
       "    <tr style=\"text-align: right;\">\n",
       "      <th></th>\n",
       "      <th>c</th>\n",
       "      <th>a</th>\n",
       "    </tr>\n",
       "    <tr>\n",
       "      <th>R</th>\n",
       "      <th></th>\n",
       "      <th></th>\n",
       "    </tr>\n",
       "  </thead>\n",
       "  <tbody>\n",
       "    <tr>\n",
       "      <th>Alloy1</th>\n",
       "      <td>150</td>\n",
       "      <td>50</td>\n",
       "    </tr>\n",
       "    <tr>\n",
       "      <th>Alloy2</th>\n",
       "      <td>120</td>\n",
       "      <td>50</td>\n",
       "    </tr>\n",
       "    <tr>\n",
       "      <th>Alloy3</th>\n",
       "      <td>80</td>\n",
       "      <td>20</td>\n",
       "    </tr>\n",
       "    <tr>\n",
       "      <th>Scrap1</th>\n",
       "      <td>35</td>\n",
       "      <td>30</td>\n",
       "    </tr>\n",
       "    <tr>\n",
       "      <th>Scrap2</th>\n",
       "      <td>20</td>\n",
       "      <td>40</td>\n",
       "    </tr>\n",
       "  </tbody>\n",
       "</table>\n",
       "</div>"
      ],
      "text/plain": [
       "          c   a\n",
       "R              \n",
       "Alloy1  150  50\n",
       "Alloy2  120  50\n",
       "Alloy3   80  20\n",
       "Scrap1   35  30\n",
       "Scrap2   20  40"
      ]
     },
     "execution_count": 2,
     "metadata": {},
     "output_type": "execute_result"
    }
   ],
   "source": [
    "# index_col=0 reads the 0th column as the index: this will be\n",
    "# very useful when converting these DataFrames to dictionaries\n",
    "#\n",
    "# We can read all sheets at once with sheet_name=None, \n",
    "# but this doesn't generalize if the data is in multiple CSV files\n",
    "#\n",
    "# Reading multiple CSV files will work essentially the same way\n",
    "# with pd.read_csv(), with different filenames and without the\n",
    "# sheet_name=... keyword argument\n",
    "R_table = pd.read_excel('2.13.xlsx', sheet_name='R', index_col=0)\n",
    "R_table"
   ]
  },
  {
   "cell_type": "code",
   "execution_count": 3,
   "metadata": {},
   "outputs": [
    {
     "data": {
      "text/plain": [
       "{'Alloy1': 150, 'Alloy2': 120, 'Alloy3': 80, 'Scrap1': 35, 'Scrap2': 20}"
      ]
     },
     "execution_count": 3,
     "metadata": {},
     "output_type": "execute_result"
    }
   ],
   "source": [
    "R_table['c'].to_dict()"
   ]
  },
  {
   "cell_type": "code",
   "execution_count": 4,
   "metadata": {},
   "outputs": [
    {
     "data": {
      "text/html": [
       "<div>\n",
       "<style scoped>\n",
       "    .dataframe tbody tr th:only-of-type {\n",
       "        vertical-align: middle;\n",
       "    }\n",
       "\n",
       "    .dataframe tbody tr th {\n",
       "        vertical-align: top;\n",
       "    }\n",
       "\n",
       "    .dataframe thead th {\n",
       "        text-align: right;\n",
       "    }\n",
       "</style>\n",
       "<table border=\"1\" class=\"dataframe\">\n",
       "  <thead>\n",
       "    <tr style=\"text-align: right;\">\n",
       "      <th></th>\n",
       "      <th>l</th>\n",
       "      <th>u</th>\n",
       "    </tr>\n",
       "    <tr>\n",
       "      <th>C</th>\n",
       "      <th></th>\n",
       "      <th></th>\n",
       "    </tr>\n",
       "  </thead>\n",
       "  <tbody>\n",
       "    <tr>\n",
       "      <th>Carbon</th>\n",
       "      <td>0.020</td>\n",
       "      <td>0.030</td>\n",
       "    </tr>\n",
       "    <tr>\n",
       "      <th>Nickel</th>\n",
       "      <td>0.000</td>\n",
       "      <td>0.040</td>\n",
       "    </tr>\n",
       "    <tr>\n",
       "      <th>Chromium</th>\n",
       "      <td>0.013</td>\n",
       "      <td>0.027</td>\n",
       "    </tr>\n",
       "    <tr>\n",
       "      <th>TensileStrength</th>\n",
       "      <td>50000.000</td>\n",
       "      <td>80000.000</td>\n",
       "    </tr>\n",
       "  </tbody>\n",
       "</table>\n",
       "</div>"
      ],
      "text/plain": [
       "                         l          u\n",
       "C                                    \n",
       "Carbon               0.020      0.030\n",
       "Nickel               0.000      0.040\n",
       "Chromium             0.013      0.027\n",
       "TensileStrength  50000.000  80000.000"
      ]
     },
     "execution_count": 4,
     "metadata": {},
     "output_type": "execute_result"
    }
   ],
   "source": [
    "C_table = pd.read_excel('2.13.xlsx', sheet_name='C', index_col=0)\n",
    "C_table"
   ]
  },
  {
   "cell_type": "code",
   "execution_count": 5,
   "metadata": {},
   "outputs": [
    {
     "data": {
      "text/html": [
       "<div>\n",
       "<style scoped>\n",
       "    .dataframe tbody tr th:only-of-type {\n",
       "        vertical-align: middle;\n",
       "    }\n",
       "\n",
       "    .dataframe tbody tr th {\n",
       "        vertical-align: top;\n",
       "    }\n",
       "\n",
       "    .dataframe thead th {\n",
       "        text-align: right;\n",
       "    }\n",
       "</style>\n",
       "<table border=\"1\" class=\"dataframe\">\n",
       "  <thead>\n",
       "    <tr style=\"text-align: right;\">\n",
       "      <th></th>\n",
       "      <th>Carbon</th>\n",
       "      <th>Nickel</th>\n",
       "      <th>Chromium</th>\n",
       "      <th>TensileStrength</th>\n",
       "    </tr>\n",
       "  </thead>\n",
       "  <tbody>\n",
       "    <tr>\n",
       "      <th>Alloy1</th>\n",
       "      <td>0.0175</td>\n",
       "      <td>0.020</td>\n",
       "      <td>0.035</td>\n",
       "      <td>60000</td>\n",
       "    </tr>\n",
       "    <tr>\n",
       "      <th>Alloy2</th>\n",
       "      <td>0.0245</td>\n",
       "      <td>0.030</td>\n",
       "      <td>0.008</td>\n",
       "      <td>40000</td>\n",
       "    </tr>\n",
       "    <tr>\n",
       "      <th>Alloy3</th>\n",
       "      <td>0.0280</td>\n",
       "      <td>0.040</td>\n",
       "      <td>0.012</td>\n",
       "      <td>90000</td>\n",
       "    </tr>\n",
       "    <tr>\n",
       "      <th>Scrap1</th>\n",
       "      <td>0.0310</td>\n",
       "      <td>0.045</td>\n",
       "      <td>0.039</td>\n",
       "      <td>120000</td>\n",
       "    </tr>\n",
       "    <tr>\n",
       "      <th>Scrap2</th>\n",
       "      <td>0.0350</td>\n",
       "      <td>0.055</td>\n",
       "      <td>0.028</td>\n",
       "      <td>70000</td>\n",
       "    </tr>\n",
       "  </tbody>\n",
       "</table>\n",
       "</div>"
      ],
      "text/plain": [
       "        Carbon  Nickel  Chromium  TensileStrength\n",
       "Alloy1  0.0175   0.020     0.035            60000\n",
       "Alloy2  0.0245   0.030     0.008            40000\n",
       "Alloy3  0.0280   0.040     0.012            90000\n",
       "Scrap1  0.0310   0.045     0.039           120000\n",
       "Scrap2  0.0350   0.055     0.028            70000"
      ]
     },
     "execution_count": 5,
     "metadata": {},
     "output_type": "execute_result"
    }
   ],
   "source": [
    "h_table = pd.read_excel('2.13.xlsx', sheet_name='h', index_col=0)\n",
    "h_table"
   ]
  },
  {
   "cell_type": "code",
   "execution_count": 6,
   "metadata": {},
   "outputs": [
    {
     "data": {
      "text/plain": [
       "{('Alloy1', 'Carbon'): 0.0175,\n",
       " ('Alloy1', 'Nickel'): 0.02,\n",
       " ('Alloy1', 'Chromium'): 0.035,\n",
       " ('Alloy1', 'TensileStrength'): 60000.0,\n",
       " ('Alloy2', 'Carbon'): 0.0245,\n",
       " ('Alloy2', 'Nickel'): 0.03,\n",
       " ('Alloy2', 'Chromium'): 0.008,\n",
       " ('Alloy2', 'TensileStrength'): 40000.0,\n",
       " ('Alloy3', 'Carbon'): 0.028,\n",
       " ('Alloy3', 'Nickel'): 0.04,\n",
       " ('Alloy3', 'Chromium'): 0.012,\n",
       " ('Alloy3', 'TensileStrength'): 90000.0,\n",
       " ('Scrap1', 'Carbon'): 0.031,\n",
       " ('Scrap1', 'Nickel'): 0.045,\n",
       " ('Scrap1', 'Chromium'): 0.039,\n",
       " ('Scrap1', 'TensileStrength'): 120000.0,\n",
       " ('Scrap2', 'Carbon'): 0.035,\n",
       " ('Scrap2', 'Nickel'): 0.055,\n",
       " ('Scrap2', 'Chromium'): 0.028,\n",
       " ('Scrap2', 'TensileStrength'): 70000.0}"
      ]
     },
     "execution_count": 6,
     "metadata": {},
     "output_type": "execute_result"
    }
   ],
   "source": [
    "# Note: DataFrame.stack() unpivots a DataFrame into a Series\n",
    "# with a multi-level index: the first level contains the original\n",
    "# row labels, the second level contains the column names\n",
    "h_table.stack().to_dict()"
   ]
  },
  {
   "cell_type": "markdown",
   "metadata": {},
   "source": [
    "<hr style=\"height:2px;background-color:gray;\">"
   ]
  },
  {
   "cell_type": "markdown",
   "metadata": {},
   "source": [
    "## Implement model in Pyomo"
   ]
  },
  {
   "cell_type": "code",
   "execution_count": 7,
   "metadata": {},
   "outputs": [
    {
     "name": "stdout",
     "output_type": "stream",
     "text": [
      "Pyomo version: 6.0.1\n"
     ]
    }
   ],
   "source": [
    "import pyomo  # just to get version number\n",
    "import pyomo.environ as pyo\n",
    "print(f'Pyomo version: {pyomo.__version__}')"
   ]
  },
  {
   "cell_type": "code",
   "execution_count": 8,
   "metadata": {},
   "outputs": [],
   "source": [
    "model = pyo.ConcreteModel()"
   ]
  },
  {
   "cell_type": "code",
   "execution_count": 9,
   "metadata": {},
   "outputs": [],
   "source": [
    "model.R = pyo.Set(initialize=R_table.index)\n",
    "model.C = pyo.Set(initialize=C_table.index)"
   ]
  },
  {
   "cell_type": "code",
   "execution_count": 10,
   "metadata": {
    "scrolled": true
   },
   "outputs": [],
   "source": [
    "# This is where the Pandas DataFrames get transformed into dictionaries\n",
    "# so that Pyomo can read them. Some notes:\n",
    "# - DataFrame['column name'] returns a Series\n",
    "# - Series.to_dict() returns a dictionary with the index as keys\n",
    "# - DataFrame.stack() unpivots a table\n",
    "model.c = pyo.Param(model.R, initialize=R_table['c'].to_dict())\n",
    "model.a = pyo.Param(model.R, initialize=R_table['a'].to_dict())\n",
    "model.l = pyo.Param(model.C, initialize=C_table['l'].to_dict())\n",
    "model.u = pyo.Param(model.C, initialize=C_table['u'].to_dict())\n",
    "model.h = pyo.Param(model.R, model.C, initialize=h_table.stack().to_dict())"
   ]
  },
  {
   "cell_type": "code",
   "execution_count": 11,
   "metadata": {},
   "outputs": [],
   "source": [
    "model.x = pyo.Var(model.R, domain=pyo.NonNegativeReals)"
   ]
  },
  {
   "cell_type": "markdown",
   "metadata": {},
   "source": [
    "\\begin{alignat*}{3}\n",
    "\\min \\quad & \\sum_{i \\in R} c_i x_i &\\quad& &\\quad& \\text{(total cost)}\n",
    "\\end{alignat*}"
   ]
  },
  {
   "cell_type": "code",
   "execution_count": 12,
   "metadata": {},
   "outputs": [],
   "source": [
    "def total_cost_rule(model):\n",
    "    return sum(model.c[i] * model.x[i] for i in model.R)\n",
    "\n",
    "model.total_cost = pyo.Objective(\n",
    "    rule=total_cost_rule,\n",
    "    sense=pyo.minimize\n",
    ")"
   ]
  },
  {
   "cell_type": "markdown",
   "metadata": {},
   "source": [
    "\\begin{alignat*}{3}\n",
    "& \\sum_{i \\in R} x_i = 100 &\\quad&  &\\quad& \\text{(piece is 100 tons)}\\\\\n",
    "\\end{alignat*}"
   ]
  },
  {
   "cell_type": "code",
   "execution_count": 13,
   "metadata": {},
   "outputs": [],
   "source": [
    "def tonnage_rule(model):\n",
    "    return sum(model.x[i] for i in model.R) == 100\n",
    "\n",
    "model.tonnage = pyo.Constraint(rule=tonnage_rule)"
   ]
  },
  {
   "cell_type": "markdown",
   "metadata": {},
   "source": [
    "\\begin{alignat*}{3}\n",
    "& \\ell_j \\sum_{i \\in R} x_i \\leq \\sum_{i \\in R} h_{ij} x_i \\leq u_j \\sum_{i \\in R} x_i &\\quad& \\text{for $j \\in C$} &\\quad& \\text{(characteristic requirements)}\\\\\n",
    "\\end{alignat*}"
   ]
  },
  {
   "cell_type": "code",
   "execution_count": 14,
   "metadata": {},
   "outputs": [],
   "source": [
    "def characteristic_lower_rule(model, j):\n",
    "    return (\n",
    "        model.l[j] * sum(model.x[i] for i in model.R)\n",
    "        <= sum(model.h[i,j] * model.x[i] for i in model.R)\n",
    "    )\n",
    "\n",
    "model.characteristic_lower = pyo.Constraint(\n",
    "    model.C, \n",
    "    rule=characteristic_lower_rule\n",
    ")"
   ]
  },
  {
   "cell_type": "code",
   "execution_count": 15,
   "metadata": {},
   "outputs": [],
   "source": [
    "def characteristic_upper_rule(model, j):\n",
    "    return (\n",
    "        sum(model.h[i,j] * model.x[i] for i in model.R)\n",
    "        <= model.u[j] * sum(model.x[i] for i in model.R)        \n",
    "    )\n",
    "\n",
    "model.characteristic_upper = pyo.Constraint(\n",
    "    model.C, \n",
    "    rule=characteristic_upper_rule\n",
    ")"
   ]
  },
  {
   "cell_type": "markdown",
   "metadata": {},
   "source": [
    "\\begin{alignat*}{3}\n",
    "& 0 \\leq x_i \\leq a_i &\\quad& \\text{for $i \\in R$} &\\quad& \\text{(nonnegativity, availability of raw materials)}\n",
    "\\end{alignat*}"
   ]
  },
  {
   "cell_type": "code",
   "execution_count": 16,
   "metadata": {},
   "outputs": [],
   "source": [
    "# Nonnegativity taken care of in variable definition\n",
    "def bounds_rule(model, i):\n",
    "    return model.x[i] <= model.a[i]\n",
    "\n",
    "model.bounds = pyo.Constraint(model.R, rule=bounds_rule)"
   ]
  },
  {
   "cell_type": "code",
   "execution_count": 17,
   "metadata": {},
   "outputs": [
    {
     "name": "stdout",
     "output_type": "stream",
     "text": [
      "3 Set Declarations\n",
      "    C : Size=1, Index=None, Ordered=Insertion\n",
      "        Key  : Dimen : Domain : Size : Members\n",
      "        None :     1 :    Any :    4 : {'Carbon', 'Nickel', 'Chromium', 'TensileStrength'}\n",
      "    R : Size=1, Index=None, Ordered=Insertion\n",
      "        Key  : Dimen : Domain : Size : Members\n",
      "        None :     1 :    Any :    5 : {'Alloy1', 'Alloy2', 'Alloy3', 'Scrap1', 'Scrap2'}\n",
      "    h_index : Size=1, Index=None, Ordered=True\n",
      "        Key  : Dimen : Domain : Size : Members\n",
      "        None :     2 :    R*C :   20 : {('Alloy1', 'Carbon'), ('Alloy1', 'Nickel'), ('Alloy1', 'Chromium'), ('Alloy1', 'TensileStrength'), ('Alloy2', 'Carbon'), ('Alloy2', 'Nickel'), ('Alloy2', 'Chromium'), ('Alloy2', 'TensileStrength'), ('Alloy3', 'Carbon'), ('Alloy3', 'Nickel'), ('Alloy3', 'Chromium'), ('Alloy3', 'TensileStrength'), ('Scrap1', 'Carbon'), ('Scrap1', 'Nickel'), ('Scrap1', 'Chromium'), ('Scrap1', 'TensileStrength'), ('Scrap2', 'Carbon'), ('Scrap2', 'Nickel'), ('Scrap2', 'Chromium'), ('Scrap2', 'TensileStrength')}\n",
      "\n",
      "5 Param Declarations\n",
      "    a : Size=5, Index=R, Domain=Any, Default=None, Mutable=False\n",
      "        Key    : Value\n",
      "        Alloy1 :    50\n",
      "        Alloy2 :    50\n",
      "        Alloy3 :    20\n",
      "        Scrap1 :    30\n",
      "        Scrap2 :    40\n",
      "    c : Size=5, Index=R, Domain=Any, Default=None, Mutable=False\n",
      "        Key    : Value\n",
      "        Alloy1 :   150\n",
      "        Alloy2 :   120\n",
      "        Alloy3 :    80\n",
      "        Scrap1 :    35\n",
      "        Scrap2 :    20\n",
      "    h : Size=20, Index=h_index, Domain=Any, Default=None, Mutable=False\n",
      "        Key                           : Value\n",
      "                 ('Alloy1', 'Carbon') :   0.0175\n",
      "               ('Alloy1', 'Chromium') :    0.035\n",
      "                 ('Alloy1', 'Nickel') :     0.02\n",
      "        ('Alloy1', 'TensileStrength') :  60000.0\n",
      "                 ('Alloy2', 'Carbon') :   0.0245\n",
      "               ('Alloy2', 'Chromium') :    0.008\n",
      "                 ('Alloy2', 'Nickel') :     0.03\n",
      "        ('Alloy2', 'TensileStrength') :  40000.0\n",
      "                 ('Alloy3', 'Carbon') :    0.028\n",
      "               ('Alloy3', 'Chromium') :    0.012\n",
      "                 ('Alloy3', 'Nickel') :     0.04\n",
      "        ('Alloy3', 'TensileStrength') :  90000.0\n",
      "                 ('Scrap1', 'Carbon') :    0.031\n",
      "               ('Scrap1', 'Chromium') :    0.039\n",
      "                 ('Scrap1', 'Nickel') :    0.045\n",
      "        ('Scrap1', 'TensileStrength') : 120000.0\n",
      "                 ('Scrap2', 'Carbon') :    0.035\n",
      "               ('Scrap2', 'Chromium') :    0.028\n",
      "                 ('Scrap2', 'Nickel') :    0.055\n",
      "        ('Scrap2', 'TensileStrength') :  70000.0\n",
      "    l : Size=4, Index=C, Domain=Any, Default=None, Mutable=False\n",
      "        Key             : Value\n",
      "                 Carbon :    0.02\n",
      "               Chromium :   0.013\n",
      "                 Nickel :     0.0\n",
      "        TensileStrength : 50000.0\n",
      "    u : Size=4, Index=C, Domain=Any, Default=None, Mutable=False\n",
      "        Key             : Value\n",
      "                 Carbon :    0.03\n",
      "               Chromium :   0.027\n",
      "                 Nickel :    0.04\n",
      "        TensileStrength : 80000.0\n",
      "\n",
      "1 Var Declarations\n",
      "    x : Size=5, Index=R\n",
      "        Key    : Lower : Value : Upper : Fixed : Stale : Domain\n",
      "        Alloy1 :     0 :  None :  None : False :  True : NonNegativeReals\n",
      "        Alloy2 :     0 :  None :  None : False :  True : NonNegativeReals\n",
      "        Alloy3 :     0 :  None :  None : False :  True : NonNegativeReals\n",
      "        Scrap1 :     0 :  None :  None : False :  True : NonNegativeReals\n",
      "        Scrap2 :     0 :  None :  None : False :  True : NonNegativeReals\n",
      "\n",
      "1 Objective Declarations\n",
      "    total_cost : Size=1, Index=None, Active=True\n",
      "        Key  : Active : Sense    : Expression\n",
      "        None :   True : minimize : 150*x[Alloy1] + 120*x[Alloy2] + 80*x[Alloy3] + 35*x[Scrap1] + 20*x[Scrap2]\n",
      "\n",
      "4 Constraint Declarations\n",
      "    bounds : Size=5, Index=R, Active=True\n",
      "        Key    : Lower : Body      : Upper : Active\n",
      "        Alloy1 :  -Inf : x[Alloy1] :  50.0 :   True\n",
      "        Alloy2 :  -Inf : x[Alloy2] :  50.0 :   True\n",
      "        Alloy3 :  -Inf : x[Alloy3] :  20.0 :   True\n",
      "        Scrap1 :  -Inf : x[Scrap1] :  30.0 :   True\n",
      "        Scrap2 :  -Inf : x[Scrap2] :  40.0 :   True\n",
      "    characteristic_lower : Size=4, Index=C, Active=True\n",
      "        Key             : Lower : Body                                                                                                                                                                       : Upper : Active\n",
      "                 Carbon :  -Inf :             0.02*(x[Alloy1] + x[Alloy2] + x[Alloy3] + x[Scrap1] + x[Scrap2]) - (0.0175*x[Alloy1] + 0.0245*x[Alloy2] + 0.028*x[Alloy3] + 0.031*x[Scrap1] + 0.035*x[Scrap2]) :   0.0 :   True\n",
      "               Chromium :  -Inf :              0.013*(x[Alloy1] + x[Alloy2] + x[Alloy3] + x[Scrap1] + x[Scrap2]) - (0.035*x[Alloy1] + 0.008*x[Alloy2] + 0.012*x[Alloy3] + 0.039*x[Scrap1] + 0.028*x[Scrap2]) :   0.0 :   True\n",
      "                 Nickel :   0.0 :                                                                                       0.02*x[Alloy1] + 0.03*x[Alloy2] + 0.04*x[Alloy3] + 0.045*x[Scrap1] + 0.055*x[Scrap2] :  +Inf :   True\n",
      "        TensileStrength :  -Inf : 50000.0*(x[Alloy1] + x[Alloy2] + x[Alloy3] + x[Scrap1] + x[Scrap2]) - (60000.0*x[Alloy1] + 40000.0*x[Alloy2] + 90000.0*x[Alloy3] + 120000.0*x[Scrap1] + 70000.0*x[Scrap2]) :   0.0 :   True\n",
      "    characteristic_upper : Size=4, Index=C, Active=True\n",
      "        Key             : Lower : Body                                                                                                                                                                     : Upper : Active\n",
      "                 Carbon :  -Inf :             0.0175*x[Alloy1] + 0.0245*x[Alloy2] + 0.028*x[Alloy3] + 0.031*x[Scrap1] + 0.035*x[Scrap2] - 0.03*(x[Alloy1] + x[Alloy2] + x[Alloy3] + x[Scrap1] + x[Scrap2]) :   0.0 :   True\n",
      "               Chromium :  -Inf :              0.035*x[Alloy1] + 0.008*x[Alloy2] + 0.012*x[Alloy3] + 0.039*x[Scrap1] + 0.028*x[Scrap2] - 0.027*(x[Alloy1] + x[Alloy2] + x[Alloy3] + x[Scrap1] + x[Scrap2]) :   0.0 :   True\n",
      "                 Nickel :  -Inf :                  0.02*x[Alloy1] + 0.03*x[Alloy2] + 0.04*x[Alloy3] + 0.045*x[Scrap1] + 0.055*x[Scrap2] - 0.04*(x[Alloy1] + x[Alloy2] + x[Alloy3] + x[Scrap1] + x[Scrap2]) :   0.0 :   True\n",
      "        TensileStrength :  -Inf : 60000.0*x[Alloy1] + 40000.0*x[Alloy2] + 90000.0*x[Alloy3] + 120000.0*x[Scrap1] + 70000.0*x[Scrap2] - 80000.0*(x[Alloy1] + x[Alloy2] + x[Alloy3] + x[Scrap1] + x[Scrap2]) :   0.0 :   True\n",
      "    tonnage : Size=1, Index=None, Active=True\n",
      "        Key  : Lower : Body                                                      : Upper : Active\n",
      "        None : 100.0 : x[Alloy1] + x[Alloy2] + x[Alloy3] + x[Scrap1] + x[Scrap2] : 100.0 :   True\n",
      "\n",
      "14 Declarations: R C c a l u h_index h x total_cost tonnage characteristic_lower characteristic_upper bounds\n"
     ]
    }
   ],
   "source": [
    "model.pprint()"
   ]
  },
  {
   "cell_type": "markdown",
   "metadata": {},
   "source": [
    "<hr style=\"height:1.5px;background-color:gray;\">"
   ]
  },
  {
   "cell_type": "markdown",
   "metadata": {},
   "source": [
    "## Solve the model"
   ]
  },
  {
   "cell_type": "code",
   "execution_count": 18,
   "metadata": {},
   "outputs": [],
   "source": [
    "opt = pyo.SolverFactory('glpk')"
   ]
  },
  {
   "cell_type": "code",
   "execution_count": 19,
   "metadata": {},
   "outputs": [
    {
     "name": "stdout",
     "output_type": "stream",
     "text": [
      "GLPSOL--GLPK LP/MIP Solver 5.0\n",
      "Parameter(s) specified in the command line:\n",
      " --write /var/folders/5k/rxb0jk152pb3hcrczw45mrm40000gn/T/tmpl_iwn6ya.glpk.raw\n",
      " --wglp /var/folders/5k/rxb0jk152pb3hcrczw45mrm40000gn/T/tmpimtidmtv.glpk.glp\n",
      " --cpxlp /var/folders/5k/rxb0jk152pb3hcrczw45mrm40000gn/T/tmpugi86f6x.pyomo.lp\n",
      "Reading problem data from '/var/folders/5k/rxb0jk152pb3hcrczw45mrm40000gn/T/tmpugi86f6x.pyomo.lp'...\n",
      "15 rows, 6 columns, 50 non-zeros\n",
      "113 lines were read\n",
      "Writing problem data to '/var/folders/5k/rxb0jk152pb3hcrczw45mrm40000gn/T/tmpimtidmtv.glpk.glp'...\n",
      "94 lines were written\n",
      "GLPK Simplex Optimizer 5.0\n",
      "15 rows, 6 columns, 50 non-zeros\n",
      "Preprocessing...\n",
      "8 rows, 5 columns, 39 non-zeros\n",
      "Scaling...\n",
      " A: min|aij| =  1.000e-03  max|aij| =  7.000e+04  ratio =  7.000e+07\n",
      "GM: min|aij| =  2.474e-01  max|aij| =  4.041e+00  ratio =  1.633e+01\n",
      "EQ: min|aij| =  6.507e-02  max|aij| =  1.000e+00  ratio =  1.537e+01\n",
      "Constructing initial basis...\n",
      "Size of triangular part is 8\n",
      "      0: obj =   2.000000000e+03 inf =   1.853e+02 (4)\n",
      "      5: obj =   8.333333333e+03 inf =   0.000e+00 (0)\n",
      "*     8: obj =   7.086076818e+03 inf =   0.000e+00 (0)\n",
      "OPTIMAL LP SOLUTION FOUND\n",
      "Time used:   0.0 secs\n",
      "Memory used: 0.0 Mb (43171 bytes)\n",
      "Writing basic solution to '/var/folders/5k/rxb0jk152pb3hcrczw45mrm40000gn/T/tmpl_iwn6ya.glpk.raw'...\n",
      "30 lines were written\n"
     ]
    }
   ],
   "source": [
    "results = opt.solve(model, tee=True)"
   ]
  },
  {
   "cell_type": "code",
   "execution_count": 20,
   "metadata": {},
   "outputs": [
    {
     "name": "stdout",
     "output_type": "stream",
     "text": [
      "Termination condition: optimal\n",
      "Optimal value: 7086.0768\n",
      "Optimal solution:\n",
      "  x[Alloy1] = 16.3923\n",
      "  x[Alloy2] = 18.4911\n",
      "  x[Alloy3] = 10.9328\n",
      "  x[Scrap1] = 30.0000\n",
      "  x[Scrap2] = 24.1838\n"
     ]
    }
   ],
   "source": [
    "print(f'Termination condition: {results.solver.termination_condition}')\n",
    "print(f'Optimal value: {pyo.value(model.total_cost):.4f}')\n",
    "print(f'Optimal solution:')\n",
    "\n",
    "for i in model.R:\n",
    "    print(f'  x[{i}] = {pyo.value(model.x[i]):.4f}')"
   ]
  }
 ],
 "metadata": {
  "kernelspec": {
   "display_name": "Python 3",
   "language": "python",
   "name": "python3"
  },
  "language_info": {
   "codemirror_mode": {
    "name": "ipython",
    "version": 3
   },
   "file_extension": ".py",
   "mimetype": "text/x-python",
   "name": "python",
   "nbconvert_exporter": "python",
   "pygments_lexer": "ipython3",
   "version": "3.8.10"
  }
 },
 "nbformat": 4,
 "nbformat_minor": 4
}
